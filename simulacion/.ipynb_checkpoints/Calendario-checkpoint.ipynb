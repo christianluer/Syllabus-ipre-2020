{
 "cells": [
  {
   "cell_type": "code",
   "execution_count": 10,
   "metadata": {},
   "outputs": [
    {
     "name": "stdout",
     "output_type": "stream",
     "text": [
      "{0: {'lunes': '0', 'martes': '1', 'miercoles': '2', 'jueves': '3', 'viernes': '4', 'sabado': '5', 'domingo': '6'}, 1: {'lunes': '0', 'martes': '1', 'miercoles': '2', 'jueves': '3', 'viernes': '4', 'sabado': '5', 'domingo': '6'}}\n"
     ]
    }
   ],
   "source": [
    "calendario = {}\n",
    "semana={\"lunes\":\"0\",\"martes\":\"1\",\"miercoles\":\"2\",\"jueves\":\"3\",\"viernes\":\"4\",\"sabado\":\"5\",\"domingo\":\"6\"}\n",
    "modulo={\"\"}\n",
    "for i in range (0,2):\n",
    "    calendario[i]=semana\n",
    "print (calendario)\n"
   ]
  },
  {
   "cell_type": "code",
   "execution_count": null,
   "metadata": {},
   "outputs": [],
   "source": []
  }
 ],
 "metadata": {
  "kernelspec": {
   "display_name": "Python 3",
   "language": "python",
   "name": "python3"
  },
  "language_info": {
   "codemirror_mode": {
    "name": "ipython",
    "version": 3
   },
   "file_extension": ".py",
   "mimetype": "text/x-python",
   "name": "python",
   "nbconvert_exporter": "python",
   "pygments_lexer": "ipython3",
   "version": "3.7.3"
  }
 },
 "nbformat": 4,
 "nbformat_minor": 4
}
